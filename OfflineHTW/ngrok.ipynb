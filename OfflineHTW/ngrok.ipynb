{
 "cells": [
  {
   "cell_type": "code",
   "execution_count": 1,
   "id": "e42d3426",
   "metadata": {},
   "outputs": [
    {
     "name": "stdout",
     "output_type": "stream",
     "text": [
      "Collecting pyngrok\n",
      "  Downloading pyngrok-5.0.5.tar.gz (745 kB)\n",
      "Collecting PyYAML\n",
      "  Downloading PyYAML-5.4.1-cp36-cp36m-win_amd64.whl (209 kB)\n",
      "Using legacy 'setup.py install' for pyngrok, since package 'wheel' is not installed.\n",
      "Installing collected packages: PyYAML, pyngrok\n",
      "    Running setup.py install for pyngrok: started\n",
      "    Running setup.py install for pyngrok: finished with status 'done'\n",
      "Successfully installed PyYAML-5.4.1 pyngrok-5.0.5\n"
     ]
    }
   ],
   "source": [
    "!pip install pyngrok"
   ]
  },
  {
   "cell_type": "code",
   "execution_count": 1,
   "id": "6b682476",
   "metadata": {},
   "outputs": [],
   "source": [
    "from pyngrok import ngrok\n",
    "# !ngrok authtoken 1rNreCnG4iM392ZEpOBubimduSF_22Ku7hmbvoxThxDMwUiqi"
   ]
  },
  {
   "cell_type": "code",
   "execution_count": 3,
   "id": "868f3a56",
   "metadata": {},
   "outputs": [
    {
     "data": {
      "text/plain": [
       "0"
      ]
     },
     "execution_count": 3,
     "metadata": {},
     "output_type": "execute_result"
    }
   ],
   "source": [
    "import os\n",
    "# os.system('streamlit run app.py &>/dev/null&')\n",
    "os.system('nohup streamlit run app.py &')"
   ]
  },
  {
   "cell_type": "code",
   "execution_count": 4,
   "id": "f517d8ed",
   "metadata": {},
   "outputs": [
    {
     "data": {
      "text/plain": [
       "<NgrokTunnel: \"http://a9595727590d.ngrok.io\" -> \"http://localhost:80\">"
      ]
     },
     "execution_count": 4,
     "metadata": {},
     "output_type": "execute_result"
    },
    {
     "name": "stderr",
     "output_type": "stream",
     "text": [
      "t=2021-04-20T16:04:26+0530 lvl=warn msg=\"failed to open private leg\" id=50dad2a8f798 privaddr=localhost:80 err=\"dial tcp [::1]:80: connectex: No connection could be made because the target machine actively refused it.\"\n",
      "t=2021-04-20T16:04:31+0530 lvl=warn msg=\"failed to open private leg\" id=97b0cbc65d15 privaddr=localhost:80 err=\"dial tcp [::1]:80: connectex: No connection could be made because the target machine actively refused it.\"\n",
      "t=2021-04-20T16:04:48+0530 lvl=warn msg=\"failed to open private leg\" id=8e88e924c45c privaddr=localhost:80 err=\"dial tcp [::1]:80: connectex: No connection could be made because the target machine actively refused it.\"\n",
      "t=2021-04-20T16:04:51+0530 lvl=warn msg=\"failed to open private leg\" id=b3167f6b4406 privaddr=localhost:80 err=\"dial tcp [::1]:80: connectex: No connection could be made because the target machine actively refused it.\"\n",
      "t=2021-04-20T16:04:54+0530 lvl=warn msg=\"failed to open private leg\" id=2a8683a82fee privaddr=localhost:80 err=\"dial tcp [::1]:80: connectex: No connection could be made because the target machine actively refused it.\"\n"
     ]
    }
   ],
   "source": [
    "publ_url = ngrok.connect(port='8501')\n",
    "publ_url"
   ]
  },
  {
   "cell_type": "code",
   "execution_count": 5,
   "id": "e0378c44",
   "metadata": {},
   "outputs": [
    {
     "name": "stdout",
     "output_type": "stream",
     "text": [
      "helloo\n"
     ]
    }
   ],
   "source": [
    "print('helloo')"
   ]
  },
  {
   "cell_type": "code",
   "execution_count": null,
   "id": "464db3e6",
   "metadata": {},
   "outputs": [],
   "source": []
  },
  {
   "cell_type": "code",
   "execution_count": null,
   "id": "9d16b778",
   "metadata": {},
   "outputs": [],
   "source": []
  },
  {
   "cell_type": "code",
   "execution_count": null,
   "id": "1aeef180",
   "metadata": {},
   "outputs": [],
   "source": []
  },
  {
   "cell_type": "code",
   "execution_count": null,
   "id": "8655c28d",
   "metadata": {},
   "outputs": [],
   "source": []
  }
 ],
 "metadata": {
  "kernelspec": {
   "display_name": "Python 3",
   "language": "python",
   "name": "python3"
  },
  "language_info": {
   "codemirror_mode": {
    "name": "ipython",
    "version": 3
   },
   "file_extension": ".py",
   "mimetype": "text/x-python",
   "name": "python",
   "nbconvert_exporter": "python",
   "pygments_lexer": "ipython3",
   "version": "3.8.3"
  }
 },
 "nbformat": 4,
 "nbformat_minor": 5
}
